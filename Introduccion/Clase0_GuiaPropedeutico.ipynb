{
 "cells": [
  {
   "cell_type": "markdown",
   "metadata": {},
   "source": [
    "<img style=\"float: left;;\" src='Imagenes/iteso.jpg' width=\"50\" height=\"100\"/></a>\n",
    "\n",
    "# <center> <font color= #8A0829> Propedéutico en programación para la Maestría de Ciencia de Datos.</font>"
   ]
  },
  {
   "cell_type": "markdown",
   "metadata": {},
   "source": [
    "___\n",
    "<img style=\"float: right; margin: 0px 0px 15px 15px;\" src=\"https://upload.wikimedia.org/wikipedia/commons/thumb/4/4a/Python3-powered_hello-world.svg/1000px-Python3-powered_hello-world.svg.png\" width=\"300px\" height=\"100px\" />\n",
    "\n",
    "\n",
    "\n",
    "#### <font color= #2E9AFE>  `Lunes, Martes y Miércoles de 19:00 a 22:00 hrs (Virtual)`</font>\n",
    "\n",
    "- <Strong> Gaddiel Desirena López </Strong>\n",
    "- <Strong> Año </Strong>: 2023\n",
    "- <Strong> Copyright: </Strong> MIT License (Exepto donde se indique lo contrario)\n",
    "\n",
    "- <Strong> Email: </Strong>  <font color=\"blue\"> `gdesirena@iteso.mx, gdesirena@gmail.com` </font>\n",
    "- <Strong> Cel: </Strong>  <font color=\"blue\"> `3316027392 (grupo de whatsap)` </font> \n",
    "___"
   ]
  },
  {
   "cell_type": "markdown",
   "metadata": {},
   "source": [
    "### `Presentación mía`\n",
    "___"
   ]
  },
  {
   "cell_type": "markdown",
   "metadata": {},
   "source": [
    "### `Presentación de ustedes`\n",
    "___"
   ]
  },
  {
   "cell_type": "markdown",
   "metadata": {},
   "source": [
    "### `Algunas reglas de juego`\n",
    "\n",
    "- Deben asistir, mínimo, al 80% de las clases para tener derecho a calificación.\n",
    "- La regla más importante de todas (regla de oro): todas las entregas se realizan a través de canvas con los plazos asignados. No se aceptan trabajos fuera de la plataforma ni fuera de plazo. (acceso a canvas?)\n",
    "___"
   ]
  },
  {
   "cell_type": "markdown",
   "metadata": {},
   "source": [
    "### `Horario de asesoría`\n",
    "\n",
    "Es posible antes de clase: **DEBEN ESCRIBIRME CORREO CON ANTICIPACIÓN PARA COORDINARNOS O UN MENSAJE POR WHATSAPP**\n",
    "___"
   ]
  },
  {
   "cell_type": "markdown",
   "metadata": {},
   "source": [
    "### `Descripción de la asignatura`\n",
    "\n",
    "La ciencia de datos es una disciplina que exige comprender elementos de diversas áreas de conocimiento que incluyen las matemáticas, probabilidad y programación, además te tener conocimientos específicos del área de donde se desprende la información.\n",
    "\n",
    "En este contexto, el estudiante que opte por iniciar una especialización en ciencia de datos debe tener bases sólidas para aprovechar al máximo las técnicas modernas del análisis de datos.\n",
    "\n",
    "El propedéutico en implementación de algoritmos revisa estos conocimientos base para lograr que el estudiante pueda insertarse de una mejor manera en un posgrado cuyo objetivo es dar herramientas de frontera en ciencia de datos."
   ]
  },
  {
   "cell_type": "markdown",
   "metadata": {},
   "source": [
    "#### `OBJETIVO GENERAL `\n",
    ">  <p style='text-align: justify;'> Modelar y resolver problemas algorítmicos mediante el uso de programación estructurada y/u orientada a objetos.</p>"
   ]
  },
  {
   "cell_type": "markdown",
   "metadata": {},
   "source": [
    "### Temario del Curso"
   ]
  },
  {
   "cell_type": "markdown",
   "metadata": {},
   "source": [
    "`Introducción.` **Conociendo python**\n",
    "> En esta semana veremos las habilidades básicas necesarias de Python para trabajar en ciencia de datos. Al final de esta semana habrás aprendido la sintaxis básica de Python, cómo usar funciones y cómo definir nuestras propias funciones, los distintos tipos de variables básicas en Python, estructuras condicionales e iterativas.\n",
    "\n",
    "   1. Conocer el entorno del lenguaje Python\n",
    "    - Introducción e instalación de software\n",
    "   2. ¿Qué tipos de variables tengo a la mano en Python?\n",
    "   3. Estructuras básicas de programación\n",
    "   4. Funciones en Python"
   ]
  },
  {
   "cell_type": "markdown",
   "metadata": {},
   "source": [
    "`Módulo 1.`  **¿Qué es la programación orientada a objetos?**\n",
    "> En esta semana aprenderás los conceptos básicos de la POO en Python: ¿qué son las clases y cómo se definen en python?, ¿cómo se instancian objetos?, ¿cómo definir y utilizar métodos?\n",
    "\n",
    "   1. ¿Qué es una clase? ¿qué es un objeto?\n",
    "   2. Métodos y atributos\n",
    "   3. Herencia"
   ]
  },
  {
   "cell_type": "markdown",
   "metadata": {},
   "source": [
    "`Módulo 2.`  **Manejo de librerías en python: numpy**\n",
    "> NumPy, que quiere decir Numerical Python, es una librería que nos permite manejar arreglos multidimensionales (datos, por ejemplo). Esta semana aprenderemos a trabajar con esta librería. Al final de la semana habrás aprendido cómo manejar arreglos multidimensionales, cómo accesar dichos arreglos y modificarlos, y cómo operar y aplicar functiones sobre dichos arreglos.\n",
    "\n",
    "   1. ¿Qué son las librerías? ¿Porqué las usamos?\n",
    "   2. Librería numpy\n",
    "   3. Manejo de matrices y vectores con numpy\n",
    "   4. Aplicaciones"
   ]
  },
  {
   "cell_type": "markdown",
   "metadata": {},
   "source": [
    "`Módulo 3.`  **Manejo de librerías en python: pandas**\n",
    "> No podemos trabajar con datos si no tenemos los datos. En esta semana aprenderemos a utilizar la librería de análisis de datos de Python: Pandas. Al finalizar la semana habrás aprendido a leer y a escribir datos, extraer características importantes de los datos, agrupar y organizar datos, entre otros.\n",
    "\n",
    "   1. Librería pandas\n",
    "   2. ¿Cómo podemos importar datos con pandas?\n",
    "   3. Limpieza de datos con pandas\n",
    "   4. Aplicaciones\n",
    "   5. Aprendizaje Supervizado y No Supervizado."
   ]
  },
  {
   "cell_type": "markdown",
   "metadata": {},
   "source": [
    "### `Evaluación`\n",
    "\n",
    "- Tareas 30%\n",
    "- Quices 30%\n",
    "- Examen final 40%"
   ]
  },
  {
   "cell_type": "markdown",
   "metadata": {},
   "source": [
    "### `Bibliografía `"
   ]
  },
  {
   "cell_type": "markdown",
   "metadata": {},
   "source": [
    "> \n",
    "```\n",
    "- https://www.python.org/\n",
    "- https://www.kaggle.com/learn\n",
    "- Python for Scientists by Stewart, John M.\n",
    "```\n",
    "\n",
    "Estos y muchos mas libros los pueden encontrar en la Biblioteca."
   ]
  }
 ],
 "metadata": {
  "anaconda-cloud": {},
  "kernelspec": {
   "display_name": "Python 3 (ipykernel)",
   "language": "python",
   "name": "python3"
  },
  "language_info": {
   "codemirror_mode": {
    "name": "ipython",
    "version": 3
   },
   "file_extension": ".py",
   "mimetype": "text/x-python",
   "name": "python",
   "nbconvert_exporter": "python",
   "pygments_lexer": "ipython3",
   "version": "3.8.8"
  }
 },
 "nbformat": 4,
 "nbformat_minor": 1
}
